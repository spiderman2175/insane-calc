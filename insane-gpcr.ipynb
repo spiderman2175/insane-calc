{
 "cells": [
  {
   "cell_type": "code",
   "execution_count": null,
   "metadata": {},
   "outputs": [],
   "source": [
    "import numpy as np\n",
    "import MDAnalysis as mda\n",
    "import nglview as nv\n",
    "from sklearn.decomposition import PCA\n",
    "import requests\n",
    "from Bio.PDB import *"
   ]
  },
  {
   "cell_type": "markdown",
   "metadata": {},
   "source": [
    "### Overall settings"
   ]
  },
  {
   "cell_type": "code",
   "execution_count": null,
   "metadata": {},
   "outputs": [],
   "source": [
    "movav_resis = 3 # number of residues used to calculate moving averages for CA positions (must be 3,5 or 7)\n",
    "vector_scale_factor = 10 \n",
    "vector_width = 1.0 \n",
    "vector_colors = [ [0,0,1], [1,0,0], [0,1,0] ]"
   ]
  },
  {
   "cell_type": "markdown",
   "metadata": {},
   "source": [
    "### G protein details"
   ]
  },
  {
   "cell_type": "markdown",
   "metadata": {},
   "source": [
    "Give the residue numbers for Galpha H5.13 to H5.23 (as used in DOI [10.1073/pnas.1820944116](https://doi.org/10.1073/pnas.1820944116)) and the Galpha chain"
   ]
  },
  {
   "cell_type": "code",
   "execution_count": null,
   "metadata": {},
   "outputs": [],
   "source": [
    "h5_inds = [341,351] # Gi residue numbers\n",
    "#h5_inds = [337,347] # Gi (6OY9, 6OYA)\n",
    "#h5_inds = [346,356] # Gq (+7DFL)\n",
    "#h5_inds = [233,243] # Gq (6WHA)\n",
    "#h5_inds = [381,391] # Gs\n",
    "#h5_inds = [371,381] # Gs (7D3S, 6GDG)\n",
    "#h5_inds = [2381,2391] # Gs (6E67)\n",
    "#h5_inds = [367,377] # Gs (7JJO)\n",
    "gpro_chain = \"A\""
   ]
  },
  {
   "cell_type": "markdown",
   "metadata": {},
   "source": [
    "### GPCR details"
   ]
  },
  {
   "cell_type": "markdown",
   "metadata": {},
   "source": [
    "Then you can either read the GPCR details manually by running this..."
   ]
  },
  {
   "cell_type": "code",
   "execution_count": null,
   "metadata": {},
   "outputs": [],
   "source": [
    "pdb_filename = \"PDB_filename.pdb\"\n",
    "gpcr_chain = \"R\"\n",
    "gpcr_name = \"uniprotname_variant\""
   ]
  },
  {
   "cell_type": "markdown",
   "metadata": {},
   "source": [
    "OR fetch GPCR structure from PDB:"
   ]
  },
  {
   "cell_type": "code",
   "execution_count": null,
   "metadata": {},
   "outputs": [],
   "source": [
    "pdb = \"7DFL\"\n",
    "\n",
    "# Download the PDB file\n",
    "pdbl = PDBList()\n",
    "pdb_filename = pdbl.retrieve_pdb_file( pdb, file_format = \"pdb\" )\n",
    "\n",
    "# Get the protein name from GPCRdb\n",
    "url = 'https://gpcrdb.org/services/structure/' + pdb + '/'\n",
    "response = requests.get(url)\n",
    "protein_data = response.json()\n",
    "gpcr_chain = protein_data['preferred_chain']\n",
    "gpcr_name = protein_data['protein']\n",
    "print( \"gpcr_chain:\", gpcr_chain )\n",
    "print( \"gpcr_name:\", gpcr_name )"
   ]
  },
  {
   "cell_type": "markdown",
   "metadata": {},
   "source": [
    "Now fetch the GPCR details from GPCRdb by running the following:"
   ]
  },
  {
   "cell_type": "code",
   "execution_count": null,
   "metadata": {},
   "outputs": [],
   "source": [
    "# For each helix, get the start and end residue numbers from GPCRdb\n",
    "url = 'https://gpcrdb.org/services/residues/' + gpcr_name + '/'\n",
    "response = requests.get(url)\n",
    "protein_data = response.json()\n",
    "tm_endpoints = np.zeros((8,2))\n",
    "helix_no = 0\n",
    "for i in protein_data:\n",
    "    generic_no = i['display_generic_number']\n",
    "    if generic_no == None:\n",
    "        continue\n",
    "    expected_prefix = str(helix_no) + \".\"\n",
    "    next_prefix = str(helix_no + 1) + \".\"\n",
    "    sequence_no = i['sequence_number']\n",
    "    if generic_no[:2] == next_prefix:\n",
    "        tm_endpoints[helix_no,0] = sequence_no\n",
    "        helix_no += 1\n",
    "    if generic_no[1] == \".\":\n",
    "        tm_endpoints[helix_no-1,1] = sequence_no"
   ]
  },
  {
   "cell_type": "markdown",
   "metadata": {},
   "source": [
    "### Run the analysis"
   ]
  },
  {
   "cell_type": "code",
   "execution_count": null,
   "metadata": {},
   "outputs": [],
   "source": [
    "u = mda.Universe( pdb_filename )\n",
    "\n",
    "# Open NGLView instance\n",
    "view1 = nv.show_mdanalysis(u)\n",
    "view1.remove_cartoon()\n",
    "view1.remove_ball_and_stick()\n",
    "view1.add_cartoon('protein',color='#00BB00', opacity=0.3)\n",
    "\n",
    "# Fit a vector to residues H5.13 to H5.23 and plot it\n",
    "h5_selection = \"(segid %s) and (resnum %d-%d) and (name CA)\" % ( gpro_chain, h5_inds[0], h5_inds[1] )\n",
    "h5_CAs = u.select_atoms( h5_selection )\n",
    "h5_PCA = h5_CAs.principal_axes()\n",
    "h5_cog = h5_CAs.center_of_geometry()\n",
    "view1.shape.add_arrow( ( h5_cog + vector_scale_factor * h5_PCA[2] ).tolist(), ( h5_cog - vector_scale_factor * h5_PCA[2] ).tolist(), vector_colors[0], vector_width )\n",
    "\n",
    "# For each TM, fit a vector to CA's #4-9 from the extracellular side\n",
    "tm_vectors = np.zeros((7,3))\n",
    "bundle_resnum = \"\"\n",
    "for i in range(7):\n",
    "    \n",
    "    # Get the indices for extracellular residues no. 4-9 \n",
    "    extracell_index = 0\n",
    "    tm_startres = tm_endpoints[i,0] + 3\n",
    "    if i%2 != 0:\n",
    "        extracell_index = -1\n",
    "        tm_startres = tm_endpoints[i,1] - 8\n",
    "    print( \"For TM%d, using residues %d-%d\" % ( i+1, tm_startres, tm_startres + 5 ) )\n",
    "    tm_resnum = \"(resnum %d-%d)\" % ( tm_startres, tm_startres + 5 )\n",
    "    if i > 0:\n",
    "        bundle_resnum += \" or \"\n",
    "    bundle_resnum += tm_resnum\n",
    "    \n",
    "    # Use CA positions from PDB file\n",
    "    tm_CAs = u.select_atoms( \"segid %s and %s and (name CA)\" % ( gpcr_chain, tm_resnum ) )\n",
    "    if len( tm_CAs ) < 6:\n",
    "        continue\n",
    "    tm_PCA = tm_CAs.principal_axes()\n",
    "    principal_idx = 2\n",
    "    tm_cog = tm_CAs.center_of_geometry()\n",
    "    \n",
    "    # Overwrite: Use moving average of three CAs\n",
    "    tm_CAs = u.select_atoms( \"segid %s and (resnum %d-%d) and (name CA)\" % ( gpcr_chain, tm_startres - ( movav_resis - 1 )/2, tm_startres + 5 + ( movav_resis - 1 )/2 ) )\n",
    "    tm_pos = tm_CAs.positions\n",
    "    tm_pos_movav = np.zeros( (6,3) )\n",
    "    for k in range(6):\n",
    "        tm_pos_movav[k,:] = np.average( tm_pos[ k:(k+movav_resis-1), : ], axis = 0 )\n",
    "    pca = PCA()\n",
    "    pca.fit( tm_pos_movav )\n",
    "    tm_PCA = pca.components_\n",
    "    principal_idx = 0\n",
    "    \n",
    "    # Make sure the vectors are pointing in the same direction\n",
    "    dist_to_endpoint = np.zeros(2)\n",
    "    for k in [0,1]:\n",
    "        dist_to_endpoint[k] = np.sum( np.power( tm_cog + np.power( -1, k) * tm_PCA[ principal_idx ] - tm_pos[ extracell_index ], 2 ) )\n",
    "    if dist_to_endpoint[1] > dist_to_endpoint[0]:\n",
    "        tm_PCA[0] *= -1\n",
    "    tm_vectors[i,:] = tm_PCA[ principal_idx ]\n",
    "    # Plot the TM vector\n",
    "    view1.shape.add_arrow( ( tm_cog - vector_scale_factor * tm_vectors[i,:] ).tolist(), ( tm_cog + vector_scale_factor * tm_vectors[i,:] ).tolist(), vector_colors[1], vector_width )\n",
    "\n",
    "# Now calculate the GPCR axis by summing the TM vectors\n",
    "bundle_vector = np.sum( tm_vectors, axis = 0 )\n",
    "bundle_vector /= np.linalg.norm( bundle_vector )\n",
    "bundle_CAs = u.select_atoms( \"segid %s and (%s) and (name CA)\" % ( gpcr_chain, bundle_resnum ) )\n",
    "bundle_cog = bundle_CAs.center_of_geometry()\n",
    "view1.shape.add_arrow( ( bundle_cog - vector_scale_factor * bundle_vector ).tolist(), ( bundle_cog + 4 * vector_scale_factor * bundle_vector ).tolist(), vector_colors[2], vector_width )\n",
    "\n",
    "# Calculate the angle between the H5 vector and the GPCR axis\n",
    "angle = np.round( np.rad2deg( np.arccos( np.dot( bundle_vector, h5_PCA[2] ) ) ) )\n",
    "print( \"Angle: %d degrees\" % np.min( [ angle, 180-angle ] ) )\n",
    "\n",
    "# Show the NGLView instance\n",
    "view1"
   ]
  },
  {
   "cell_type": "code",
   "execution_count": null,
   "metadata": {},
   "outputs": [],
   "source": []
  }
 ],
 "metadata": {
  "kernelspec": {
   "display_name": "Python 3",
   "language": "python",
   "name": "python3"
  },
  "language_info": {
   "codemirror_mode": {
    "name": "ipython",
    "version": 3
   },
   "file_extension": ".py",
   "mimetype": "text/x-python",
   "name": "python",
   "nbconvert_exporter": "python",
   "pygments_lexer": "ipython3",
   "version": "3.7.3"
  }
 },
 "nbformat": 4,
 "nbformat_minor": 2
}
